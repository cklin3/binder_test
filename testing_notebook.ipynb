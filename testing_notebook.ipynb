{
 "cells": [
  {
   "cell_type": "markdown",
   "id": "584ccd72",
   "metadata": {},
   "source": [
    "### Test notebook\n",
    "#### Testing 123"
   ]
  },
  {
   "cell_type": "code",
   "execution_count": 2,
   "id": "898e8803",
   "metadata": {},
   "outputs": [],
   "source": [
    "import pandas as pd\n",
    "import bqplot\n",
    "import numpy as np\n",
    "import ipywidgets\n",
    "import matplotlib.pyplot as plt"
   ]
  },
  {
   "cell_type": "code",
   "execution_count": 3,
   "id": "c89e624e",
   "metadata": {},
   "outputs": [],
   "source": [
    "buildings = pd.read_csv(\"https://uiuc-ischool-dataviz.github.io/is445_spring2022/week03/data/building_inventory.csv\")"
   ]
  },
  {
   "cell_type": "code",
   "execution_count": 4,
   "id": "8884b992",
   "metadata": {},
   "outputs": [
    {
     "data": {
      "text/plain": [
       "0         Astoria\n",
       "1         Astoria\n",
       "2         Astoria\n",
       "3         Astoria\n",
       "4         Astoria\n",
       "          ...    \n",
       "8857    Belvidere\n",
       "8858    Belvidere\n",
       "8859       Quincy\n",
       "8860      Oglesby\n",
       "8861       Peoria\n",
       "Name: City, Length: 8862, dtype: object"
      ]
     },
     "execution_count": 4,
     "metadata": {},
     "output_type": "execute_result"
    }
   ],
   "source": [
    "buildings[\"City\"]"
   ]
  },
  {
   "cell_type": "code",
   "execution_count": 5,
   "id": "34ce073f",
   "metadata": {},
   "outputs": [
    {
     "name": "stdout",
     "output_type": "stream",
     "text": [
      "Hello World!\n"
     ]
    }
   ],
   "source": [
    "print(\"Hello World!\")"
   ]
  },
  {
   "cell_type": "code",
   "execution_count": 6,
   "id": "9f7b81e7",
   "metadata": {},
   "outputs": [
    {
     "name": "stdout",
     "output_type": "stream",
     "text": [
      "Testing for mybinder\n"
     ]
    }
   ],
   "source": [
    "print(\"Testing for mybinder\")"
   ]
  },
  {
   "cell_type": "code",
   "execution_count": 7,
   "id": "1e38c639",
   "metadata": {},
   "outputs": [
    {
     "data": {
      "image/png": "[encoded data removed]",
      "text/plain": [
       "<Figure size 432x288 with 1 Axes>"
      ]
     },
     "metadata": {
      "needs_background": "light"
     },
     "output_type": "display_data"
    }
   ],
   "source": [
    "fig = plt.figure()\n",
    "ax = fig.add_axes([0,0,1,1])\n",
    "langs = ['C', 'C++', 'Java', 'Python', 'PHP']\n",
    "students = [23,17,35,29,12]\n",
    "ax.bar(langs,students)\n",
    "plt.show()"
   ]
  }
 ],
 "metadata": {
  "kernelspec": {
   "display_name": "Python 3 (ipykernel)",
   "language": "python",
   "name": "python3"
  },
  "language_info": {
   "codemirror_mode": {
    "name": "ipython",
    "version": 3
   },
   "file_extension": ".py",
   "mimetype": "text/x-python",
   "name": "python",
   "nbconvert_exporter": "python",
   "pygments_lexer": "ipython3",
   "version": "3.7.12"
  }
 },
 "nbformat": 4,
 "nbformat_minor": 5
}
